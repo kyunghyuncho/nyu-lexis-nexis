{
 "cells": [
  {
   "cell_type": "code",
   "execution_count": 1,
   "metadata": {},
   "outputs": [],
   "source": [
    "from lexis_nexis import *"
   ]
  },
  {
   "cell_type": "code",
   "execution_count": 2,
   "metadata": {},
   "outputs": [
    {
     "name": "stdout",
     "output_type": "stream",
     "text": [
      "API_KEY: F8PT8FS9PXXRBR78RMZFJ25J8T526P, API_SECRET: FPMJP84Q772GWHZ727M2STGPQ84MJ69MNPKS983H\n"
     ]
    }
   ],
   "source": [
    "# Path to the file containing API credentials\n",
    "credentials_file = 'lexis_nexis_key.txt'\n",
    "\n",
    "# Read the API credentials\n",
    "API_KEY, API_SECRET = read_api_credentials(credentials_file)\n",
    "print(f'API_KEY: {API_KEY}, API_SECRET: {API_SECRET}')"
   ]
  },
  {
   "cell_type": "code",
   "execution_count": 3,
   "metadata": {},
   "outputs": [
    {
     "ename": "TypeError",
     "evalue": "get_top_news_articles() takes 1 positional argument but 2 were given",
     "output_type": "error",
     "traceback": [
      "\u001b[0;31m---------------------------------------------------------------------------\u001b[0m",
      "\u001b[0;31mTypeError\u001b[0m                                 Traceback (most recent call last)",
      "Cell \u001b[0;32mIn[3], line 2\u001b[0m\n\u001b[1;32m      1\u001b[0m \u001b[38;5;66;03m# Fetch the top news articles\u001b[39;00m\n\u001b[0;32m----> 2\u001b[0m articles \u001b[38;5;241m=\u001b[39m get_top_news_articles(API_KEY, API_SECRET)\n\u001b[1;32m      4\u001b[0m \u001b[38;5;66;03m# Print the fetched articles\u001b[39;00m\n\u001b[1;32m      5\u001b[0m \u001b[38;5;28;01mfor\u001b[39;00m idx, article \u001b[38;5;129;01min\u001b[39;00m \u001b[38;5;28menumerate\u001b[39m(articles):\n",
      "\u001b[0;31mTypeError\u001b[0m: get_top_news_articles() takes 1 positional argument but 2 were given"
     ]
    }
   ],
   "source": [
    "# Fetch the top news articles\n",
    "articles = get_top_news_articles(API_KEY, API_SECRET)\n",
    "\n",
    "# Print the fetched articles\n",
    "for idx, article in enumerate(articles):\n",
    "    print(f\"{idx + 1}. {article['title']}\")\n",
    "    print(f\"Published on: {article['publicationDate']}\")\n",
    "    print(f\"Source: {article['source']['name']}\")\n",
    "    print(f\"URL: {article['url']}\")\n",
    "    print(\"Summary:\", article.get('summary', 'No summary available'))\n",
    "    print(\"-\" * 80)"
   ]
  },
  {
   "cell_type": "code",
   "execution_count": null,
   "metadata": {},
   "outputs": [],
   "source": []
  }
 ],
 "metadata": {
  "kernelspec": {
   "display_name": "base",
   "language": "python",
   "name": "python3"
  },
  "language_info": {
   "codemirror_mode": {
    "name": "ipython",
    "version": 3
   },
   "file_extension": ".py",
   "mimetype": "text/x-python",
   "name": "python",
   "nbconvert_exporter": "python",
   "pygments_lexer": "ipython3",
   "version": "3.11.9"
  }
 },
 "nbformat": 4,
 "nbformat_minor": 2
}
