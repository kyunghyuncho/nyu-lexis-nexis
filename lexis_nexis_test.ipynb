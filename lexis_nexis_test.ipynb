{
 "cells": [
  {
   "cell_type": "code",
   "execution_count": 1,
   "metadata": {},
   "outputs": [],
   "source": [
    "from lexis_nexis import *"
   ]
  },
  {
   "cell_type": "code",
   "execution_count": 2,
   "metadata": {},
   "outputs": [
    {
     "name": "stdout",
     "output_type": "stream",
     "text": [
      "API_KEY: F8PT8FS9PXXRBR78RMZFJ25J8T526P, API_SECRET: FPMJP84Q772GWHZ727M2STGPQ84MJ69MNPKS983H\n"
     ]
    }
   ],
   "source": [
    "# Path to the file containing API credentials\n",
    "credentials_file = 'lexis_nexis_key.txt'\n",
    "\n",
    "# Read the API credentials\n",
    "API_KEY, API_SECRET = read_api_credentials(credentials_file)\n",
    "print(f'API_KEY: {API_KEY}, API_SECRET: {API_SECRET}')"
   ]
  },
  {
   "cell_type": "code",
   "execution_count": 3,
   "metadata": {},
   "outputs": [
    {
     "name": "stdout",
     "output_type": "stream",
     "text": [
      "Failed to fetch articles: 401 - {\"timestamp\":\"2024-05-27T16:05:16.046+00:00\",\"status\":401,\"error\":\"Unauthorized\",\"path\":\"/v1/News\"}\n"
     ]
    }
   ],
   "source": [
    "# Fetch the top news articles\n",
    "articles = get_top_news_articles(API_KEY, API_SECRET)\n",
    "\n",
    "# Print the fetched articles\n",
    "for idx, article in enumerate(articles):\n",
    "    print(f\"{idx + 1}. {article['title']}\")\n",
    "    print(f\"Published on: {article['publicationDate']}\")\n",
    "    print(f\"Source: {article['source']['name']}\")\n",
    "    print(f\"URL: {article['url']}\")\n",
    "    print(\"Summary:\", article.get('summary', 'No summary available'))\n",
    "    print(\"-\" * 80)"
   ]
  },
  {
   "cell_type": "code",
   "execution_count": null,
   "metadata": {},
   "outputs": [],
   "source": []
  }
 ],
 "metadata": {
  "kernelspec": {
   "display_name": "base",
   "language": "python",
   "name": "python3"
  },
  "language_info": {
   "codemirror_mode": {
    "name": "ipython",
    "version": 3
   },
   "file_extension": ".py",
   "mimetype": "text/x-python",
   "name": "python",
   "nbconvert_exporter": "python",
   "pygments_lexer": "ipython3",
   "version": "3.11.9"
  }
 },
 "nbformat": 4,
 "nbformat_minor": 2
}
